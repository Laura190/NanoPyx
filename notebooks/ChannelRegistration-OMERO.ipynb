{
 "cells": [
  {
   "cell_type": "markdown",
   "id": "fe8c7cc0",
   "metadata": {},
   "source": [
    "# Running Nanopyx on data from OMERO\n",
    "\n",
    "This notebook allows you to perform channel registration of 2D+t multi-channel image stacks using data on OMERO.\n",
    "\n",
    "If you use this notebook found this work useful for your research please cite [preprint](https://www.biorxiv.org/content/10.1101/2023.08.13.553080v1), the Nanopyx Github repo [![DOI](https://zenodo.org/badge/505388398.svg)](https://zenodo.org/badge/latestdoi/505388398) and [acknowledge CAMDU](https://warwick.ac.uk/fac/sci/med/research/biomedical/facilities/camdu/acknowledgementpolicy/)\n",
    "\n",
    "**Channel Registration** Romain F Laine et al 2019 J. Phys. D: Appl. Phys. 52 163001\n",
    "\n",
    "\n"
   ]
  },
  {
   "cell_type": "code",
   "execution_count": 2,
   "id": "30b86858",
   "metadata": {
    "cellView": "form"
   },
   "outputs": [],
   "source": [
    "import io\n",
    "import os\n",
    "import cv2 as cv\n",
    "import skimage\n",
    "import nanopyx\n",
    "import stackview\n",
    "import numpy as np\n",
    "import tifffile as tiff\n",
    "import matplotlib as mpl\n",
    "import ipywidgets as widgets\n",
    "from PIL import Image\n",
    "from IPython.display import display, clear_output\n",
    "from matplotlib import pyplot as plt\n",
    "from omero.gateway import BlitzGateway\n",
    "import getpass\n",
    "\n",
    "from nanopyx.core.utils.easy_gui import EasyGui\n",
    "from nanopyx.core.utils.find_files import find_files\n",
    "from nanopyx.data.download import ExampleDataManager\n",
    "\n",
    "from nanopyx.core.generate.beads import generate_channel_misalignment"
   ]
  },
  {
   "cell_type": "markdown",
   "id": "0126a97d-127b-4b01-8bdd-d0b55d17a451",
   "metadata": {},
   "source": [
    "Enter OMERO login details:"
   ]
  },
  {
   "cell_type": "code",
   "execution_count": null,
   "id": "d4823367-cccb-43fe-9715-318f61f81aeb",
   "metadata": {},
   "outputs": [],
   "source": [
    "username = input('Username: ') #Request user to enter OMERO username\n",
    "password = getpass.getpass(prompt='Password: ') #Request user to enter OMERO password"
   ]
  },
  {
   "cell_type": "markdown",
   "id": "4d33aeb5-5875-4929-aa6b-87ef9a0dd3a4",
   "metadata": {},
   "source": [
    "Load image to use to calculate channel registation. Enter the image ID from OMERO."
   ]
  },
  {
   "cell_type": "code",
   "execution_count": 32,
   "id": "1b890ca5",
   "metadata": {
    "cellView": "form"
   },
   "outputs": [
    {
     "name": "stdin",
     "output_type": "stream",
     "text": [
      "Image ID:  809560\n"
     ]
    },
    {
     "name": "stdout",
     "output_type": "stream",
     "text": [
      "Loading...\n"
     ]
    },
    {
     "data": {
      "text/plain": [
       "(4, 1196, 1196)"
      ]
     },
     "execution_count": 32,
     "metadata": {},
     "output_type": "execute_result"
    }
   ],
   "source": [
    "global dataset_original\n",
    "\n",
    "def get_stack(img):\n",
    "    \"\"\"\n",
    "    Convert OMERO image object to numpy array\n",
    "    Input: img  OMERO image object\n",
    "    \"\"\"\n",
    "    zct_list = [(z, c, t) for z in range(img.getSizeZ()) for c in range(img.getSizeC()) for T in range(img.getSizeT())] #Set dimensions of image\n",
    "    pixels = img.getPrimaryPixels()\n",
    "    return np.array(list(pixels.getPlanes(zct_list))) #Read in data one plane at a time\n",
    "\n",
    "image_id = input('Image ID: ')\n",
    "conn = BlitzGateway(username, password, host='white-pike.lnx.warwick.ac.uk', port=4064)\n",
    "conn.connect() #Returns True when connected\n",
    "image = conn.getObject(\"Image\", image_id)\n",
    "name = image.getName()\n",
    "print(\"Loading...\")\n",
    "dataset_original=get_stack(image)\n",
    "z = image.getSizeZ() / 2 #Middle z plane\n",
    "t = 0 #First time point\n",
    "rendered_image=image.renderImage(z,t) #Rendering settings from OMERO.web\n",
    "rendered_image.show() #Opens pop up\n",
    "conn.close()\n",
    "dataset_original.shape\n"
   ]
  },
  {
   "cell_type": "markdown",
   "id": "3669e8cd",
   "metadata": {},
   "source": [
    "# Channel Registration Parameters:  \n",
    "\n",
    "Requires an image stack with shape: (channel, rows, columns).  \n",
    "\n",
    "- **Reference Channel:** Which channel to be used as reference.  \n",
    "- **Max Expected Shift:** Maximum amount of expected shift between channels, in pixels.  \n",
    "- **Blocks per Axis:** As channel misalignmnet is not always homogeneous across the field of view, shift can be calculated for individual blocks of the field of view. This parameters sets how many blocks are created along both axis.  \n",
    "- **Minimum Similarity:** Since smaller blocks may lead to shift calculation in areas of the image without any cells, minimum similarity can be used to define the minimum Pearson's Correlation Coefficient, between two blocks of different channels, required to use the calculated shifts as part of the registration. \n",
    "\n",
    "\n"
   ]
  },
  {
   "cell_type": "code",
   "execution_count": 34,
   "id": "319c9800",
   "metadata": {
    "cellView": "form"
   },
   "outputs": [
    {
     "data": {
      "application/vnd.jupyter.widget-view+json": {
       "model_id": "02279439f9cc469f99ed2d7b88bc57c6",
       "version_major": 2,
       "version_minor": 0
      },
      "text/plain": [
       "VBox(children=(Label(value='Channel Registration parameters:', layout=Layout(width='50%'), style=LabelStyle(de…"
      ]
     },
     "metadata": {},
     "output_type": "display_data"
    }
   ],
   "source": [
    "#@title Create channel registration GUI\n",
    "from nanopyx.methods import channel_registration\n",
    "\n",
    "gui_reg = EasyGui(\"Channel Registration\")\n",
    "\n",
    "def on_button_register(b):\n",
    "    clear_output()\n",
    "    gui_reg.show()\n",
    "    ref_channel = gui_reg[\"ref\"].value\n",
    "    max_shift = gui_reg[\"max\"].value\n",
    "    n_blocks = gui_reg[\"blocks\"].value\n",
    "    min_sim = gui_reg[\"min_sim\"].value\n",
    "    global dataset_registered\n",
    "    gui_reg[\"register\"].disabled = True\n",
    "    gui_reg[\"register\"].description = \"Aligning...\"\n",
    "    if gui_reg[\"save\"].value:\n",
    "        save_translation_masks = True\n",
    "        if name:\n",
    "            save_path = name + \"_registered.tif\"\n",
    "            translation_mask_path = name\n",
    "        else:\n",
    "            disp(\"No image found\")\n",
    "    else:\n",
    "        save_translation_masks = False\n",
    "        translation_mask_path = \"\"\n",
    "    dataset_registered = channel_registration.estimate_channel_registration(dataset_original,\n",
    "                                                                            ref_channel,\n",
    "                                                                            max_shift,\n",
    "                                                                            n_blocks,\n",
    "                                                                            min_sim,\n",
    "                                                                            save_translation_masks=save_translation_masks,\n",
    "                                                                            translation_mask_save_path=translation_mask_path,\n",
    "                                                                            apply=True)\n",
    "    if gui_reg[\"save\"].value:\n",
    "        tiff.imwrite(save_path, dataset_registered)\n",
    "    gui_reg[\"register\"].disabled = False\n",
    "    gui_reg[\"register\"].description = \"Align\"\n",
    "    gui_reg._main_display.children = gui_reg._main_display.children + (stackview.slice(dataset_registered, colormap=gui_reg[\"cmaps\"].value, continuous_update=True),)\n",
    "\n",
    "\n",
    "gui_reg.add_label(\"Channel Registration parameters:\")\n",
    "gui_reg.add_int_slider(\"ref\", description=\"Reference channel\", min=0, max=dataset_original.shape[0]-1, value=0)\n",
    "gui_reg.add_int_slider(\"max\", description=\"Max expected drift\", min=0, max=1000, value=10)\n",
    "gui_reg.add_int_slider(\"blocks\", description=\"Blocks per axis\", min=1, max=10, value=5)\n",
    "gui_reg.add_float_slider(\"min_sim\", description=\"Minimum similarity\", min=0, max=1, value=0.5, step=0.1)\n",
    "gui_reg.add_dropdown(\"cmaps\", description=\"Colormap:\",\n",
    "                     options=sorted(list(mpl.colormaps)),\n",
    "                     value=\"viridis\", remember_value=True)\n",
    "gui_reg.add_checkbox(\"save\", description=\"Save Output\", value=True)\n",
    "gui_reg.add_button(\"register\", description=\"Register\")\n",
    "gui_reg[\"register\"].on_click(on_button_register)\n",
    "gui_reg.show()\n",
    "\n",
    "\n"
   ]
  },
  {
   "cell_type": "markdown",
   "id": "7ce5b0ff",
   "metadata": {},
   "source": [
    "## Use the following cells only if you have a previously calculated translation mask\n",
    "\n"
   ]
  },
  {
   "cell_type": "markdown",
   "id": "78e4df3a-1b72-496c-97ed-63984739cf94",
   "metadata": {},
   "source": [
    "Enter ID of Dataset from OMERO"
   ]
  },
  {
   "cell_type": "code",
   "execution_count": 15,
   "id": "f549ec55-8ed5-47c6-8279-ef06e5193243",
   "metadata": {},
   "outputs": [
    {
     "name": "stdin",
     "output_type": "stream",
     "text": [
      "Dataset ID:  41364\n"
     ]
    }
   ],
   "source": [
    "dataset_id = input('Dataset ID: ')"
   ]
  },
  {
   "cell_type": "code",
   "execution_count": 40,
   "id": "e814ef6f",
   "metadata": {
    "cellView": "form"
   },
   "outputs": [
    {
     "data": {
      "application/vnd.jupyter.widget-view+json": {
       "model_id": "748dc7b6d4944a38ab14f9cb3e983efa",
       "version_major": 2,
       "version_minor": 0
      },
      "text/plain": [
       "VBox(children=(Label(value='Load translation mask:', layout=Layout(width='50%'), style=LabelStyle(description_…"
      ]
     },
     "metadata": {},
     "output_type": "display_data"
    }
   ],
   "source": [
    "#@title Create channel registration GUI\n",
    "import sys\n",
    "from nanopyx.methods.channel_registration import apply_channel_registration\n",
    "from IPython.display import display, clear_output\n",
    "\n",
    "def get_t_stack(img,t):\n",
    "    \"\"\"\n",
    "    Convert OMERO image object to numpy array one time point at a time\n",
    "    Input: img  OMERO image object\n",
    "    \"\"\"\n",
    "    zct_list = [(z, c, t) for z in range(img.getSizeZ()) for c in range(img.getSizeC())] #Set dimensions of image\n",
    "    pixels = img.getPrimaryPixels()\n",
    "    return np.array(list(pixels.getPlanes(zct_list))) #Read in data one plane at a time\n",
    "\n",
    "gui_reg_apply = EasyGui(\"Channel Registration Apply\")\n",
    "\n",
    "def on_button_apply(b):\n",
    "    clear_output()\n",
    "    gui_reg_apply.show()\n",
    "\n",
    "    gui_reg_apply[\"Register Image\"].disabled = True\n",
    "    #gui_reg_apply[\"Register Image\"].description = \"Aligning...\"\n",
    "\n",
    "    translation_mask_path = gui_reg_apply[\"upload\"].selected\n",
    "    translation_mask = tiff.imread(translation_mask_path)\n",
    "    conn = BlitzGateway(username, password, host='white-pike.lnx.warwick.ac.uk', port=4064)\n",
    "    conn.connect() #Returns True when connected\n",
    "    dataset = conn.getObject(\"Dataset\", dataset_id)\n",
    "    for img in dataset.listChildren():\n",
    "        name = img.getName()\n",
    "        final_stack = []\n",
    "        gui_reg_apply[\"Register Image\"].description = \"Aligning \" + name + \"...\"\n",
    "        for t in range(img.getSizeT()):\n",
    "            image_to_align = get_t_stack(img,t)\n",
    "            aligned_image = apply_channel_registration(image_to_align, translation_mask)\n",
    "            final_stack.append(aligned_image)\n",
    "    \n",
    "        if gui_reg_apply[\"save\"].value:\n",
    "            save_path = name + \"_registered.tif\"\n",
    "            tiff.imwrite(save_path, final_stack)\n",
    "\n",
    "    conn.close()\n",
    "\n",
    "    gui_reg_apply[\"Register Image\"].disabled = False\n",
    "    gui_reg_apply[\"Register Image\"].description = \"Align\"\n",
    "    gui_reg_apply._main_display.children = gui_reg_apply._main_display.children + (stackview.slice(aligned_image, colormap=gui_reg_apply[\"cmaps\"].value, continuous_update=True),)\n",
    "\n",
    "gui_reg_apply.add_label(\"Load translation mask:\")\n",
    "gui_reg_apply.add_file_upload(\"upload\")\n",
    "gui_reg_apply.add_dropdown(\"cmaps\", description=\"Colormap:\",\n",
    "                      options=sorted(list(mpl.colormaps)),\n",
    "                      value=\"viridis\", remember_value=True)\n",
    "gui_reg_apply.add_checkbox(\"save\", description=\"Save Output\", value=True)\n",
    "gui_reg_apply.add_button(\"Register Image\", description=\"Register Image\")\n",
    "gui_reg_apply[\"Register Image\"].on_click(on_button_apply)\n",
    "gui_reg_apply.show()\n",
    "\n"
   ]
  },
  {
   "cell_type": "code",
   "execution_count": null,
   "id": "16dd4ac5-4302-4841-bb06-11d75fbcc436",
   "metadata": {},
   "outputs": [],
   "source": []
  }
 ],
 "metadata": {
  "kernelspec": {
   "display_name": "Python 3 (ipykernel)",
   "language": "python",
   "name": "python3"
  },
  "language_info": {
   "codemirror_mode": {
    "name": "ipython",
    "version": 3
   },
   "file_extension": ".py",
   "mimetype": "text/x-python",
   "name": "python",
   "nbconvert_exporter": "python",
   "pygments_lexer": "ipython3",
   "version": "3.10.14"
  }
 },
 "nbformat": 4,
 "nbformat_minor": 5
}
